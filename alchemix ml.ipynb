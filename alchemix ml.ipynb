{
 "cells": [
  {
   "cell_type": "code",
   "execution_count": null,
   "metadata": {},
   "outputs": [],
   "source": [
    "\n",
    "\n",
    "\n",
    "\n",
    "\n",
    "import pandas as pd\n",
    "import numpy as np\n",
    "from sklearn.model_selection import train_test_split\n",
    "from sklearn.ensemble import RandomForestClassifier\n",
    "from sklearn.metrics import classification_report\n",
    "\n",
    "# Load the data\n",
    "data = pd.read_csv(r\"C:\\Users\\DELL\\Desktop\\DOWNLOAD-CUC7SguObJEIkPWSqWLaUAEoQGVmVCLFK4ujZGyxiyM=\\DOWNLOAD-CUC7SguObJEIkPWSqWLaUAEoQGVmVCLFK4ujZGyxiyM=.csv\")\n",
    "\n",
    "# Check for missing values\n",
    "print(data.isnull().sum())\n",
    "\n",
    "# Fill NaN values with column means for numeric columns\n",
    "data.fillna(data.mean(numeric_only=True), inplace=True)\n",
    "\n",
    "# One-hot encoding for categorical variable\n",
    "data = pd.get_dummies(data, columns=['brand'], drop_first=True)\n",
    "\n",
    "# Define features and target\n",
    "X = data.drop('best_analogue', axis=1)\n",
    "y = data['best_analogue']\n",
    "\n",
    "# Split the data\n",
    "X_train, X_test, y_train, y_test = train_test_split(X, y, test_size=0.2, random_state=42)\n",
    "\n",
    "# Train the model\n",
    "model = RandomForestClassifier(n_estimators=100, random_state=42)\n",
    "model.fit(X_train, y_train)\n",
    "\n",
    "# Make predictions\n",
    "y_pred = model.predict(X_test)\n",
    "\n",
    "# Output classification report\n",
    "print(classification_report(y_test, y_pred))\n",
    "\n",
    "\n"
   ]
  },
  {
   "cell_type": "code",
   "execution_count": null,
   "metadata": {},
   "outputs": [],
   "source": []
  },
  {
   "cell_type": "markdown",
   "metadata": {},
   "source": []
  }
 ],
 "metadata": {
  "kernelspec": {
   "display_name": "Python 3",
   "language": "python",
   "name": "python3"
  },
  "language_info": {
   "name": "python",
   "version": "3.12.4"
  }
 },
 "nbformat": 4,
 "nbformat_minor": 2
}
